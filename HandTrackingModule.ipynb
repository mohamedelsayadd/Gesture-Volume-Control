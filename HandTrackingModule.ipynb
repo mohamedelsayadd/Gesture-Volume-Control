{
 "cells": [
  {
   "cell_type": "code",
   "execution_count": 2,
   "id": "e75962b7-e979-48b6-bbda-0842a267280b",
   "metadata": {},
   "outputs": [],
   "source": [
    "import cv2 \n",
    "import mediapipe as mp \n",
    "import time "
   ]
  },
  {
   "cell_type": "code",
   "execution_count": 4,
   "id": "bca850e9-e9d8-4631-8673-91f8b1831a26",
   "metadata": {},
   "outputs": [],
   "source": [
    "class handDetector() :\n",
    "    def __init__(self,mode=False,maxHands=2,detectioncon=0.5,trackcon=0.5) :\n",
    "        self.mode = mode\n",
    "        self.maxHands = maxHands\n",
    "        self.detectioncon = detectioncon\n",
    "        self.trackcon = trackcon\n",
    "        self.mPhands = mp.solutions.hands\n",
    "        self.hands = self.mPhands.Hands(self.mode,self.maxHands,min_detection_confidence=self.detectioncon, min_tracking_confidence=self.trackcon)\n",
    "        self.mpDraw = mp.solutions.drawing_utils\n",
    "\n",
    "    def findHands(self,img,draw=True) :\n",
    "        img_RGB = cv2.cvtColor(img , cv2.COLOR_BGR2RGB)\n",
    "        self.results = self.hands.process(img_RGB)\n",
    "\n",
    "        if self.results.multi_hand_landmarks :\n",
    "            for handlms in self.results.multi_hand_landmarks :\n",
    "                if draw :\n",
    "                    self.mpDraw.draw_landmarks(img , handlms , self.mPhands.HAND_CONNECTIONS)\n",
    "                    \n",
    "        return img\n",
    "\n",
    "    def findPositions (self , img , handNo = 0 , draw = True) :\n",
    "        lmList = []\n",
    "        if self.results.multi_hand_landmarks :\n",
    "            myHand = self.results.multi_hand_landmarks[handNo]\n",
    "            for id,lm in enumerate (myHand.landmark) :\n",
    "                h,w,c = img.shape\n",
    "                cx,cy = int (lm.x*w) , int(lm.y*h)\n",
    "                lmList.append((cx,cy,id))\n",
    "        return lmList"
   ]
  },
  {
   "cell_type": "code",
   "execution_count": 6,
   "id": "1959af27-5848-464d-86b7-1e6db9e0a164",
   "metadata": {},
   "outputs": [],
   "source": [
    "def main () : \n",
    "    pTime = 0 \n",
    "    cTime = 0\n",
    "    cap = cv2.VideoCapture(0)\n",
    "    detector = handDetector()\n",
    "    while True : \n",
    "        ret,frmae = cap.read() \n",
    "        frame = detector.findHands(frame)\n",
    "        lmlist = detector.findPositions(frame)\n",
    "        if len(lmlist) != 0 : \n",
    "            print(lmlist[4])\n",
    "\n",
    "        cTime = time.time() \n",
    "        fps = 1 / (cTime-pTime)\n",
    "        pTime = cTime \n",
    "\n",
    "        cv2.putText(frame , str(int(fps)) , (10,70) , cv2.FONT_HERSHEY_PLAIN , 3 , (255,0,255) , 3 ) \n",
    "\n",
    "        cv2.imshow(\"frame\" , frame)\n",
    "        cv2.waitKey(1) "
   ]
  }
 ],
 "metadata": {
  "kernelspec": {
   "display_name": "Python 3 (ipykernel)",
   "language": "python",
   "name": "python3"
  },
  "language_info": {
   "codemirror_mode": {
    "name": "ipython",
    "version": 3
   },
   "file_extension": ".py",
   "mimetype": "text/x-python",
   "name": "python",
   "nbconvert_exporter": "python",
   "pygments_lexer": "ipython3",
   "version": "3.12.4"
  }
 },
 "nbformat": 4,
 "nbformat_minor": 5
}
